{
 "cells": [
  {
   "cell_type": "code",
   "execution_count": 1,
   "id": "de18571d-d525-494c-9bfb-af0035ba467e",
   "metadata": {},
   "outputs": [],
   "source": [
    "# Q1.  Explain with an example each when to use a for loop and a while loop."
   ]
  },
  {
   "cell_type": "code",
   "execution_count": 17,
   "id": "67cac618-4e3f-46ea-b0c1-64b1ca2bd14c",
   "metadata": {},
   "outputs": [],
   "source": [
    "# A 'for' loop is a fundamental control structure in programming that allows us to iterate over a range of values, such as a list, array or sequence."
   ]
  },
  {
   "cell_type": "code",
   "execution_count": 18,
   "id": "d8ab330a-0b6c-4310-9216-641106870832",
   "metadata": {},
   "outputs": [],
   "source": [
    "# For Example : when you need to calculate a sum or average of a list of numbers using 'for' loop"
   ]
  },
  {
   "cell_type": "code",
   "execution_count": 2,
   "id": "558931e9-6af5-4e6d-94c4-d238aa4a5c93",
   "metadata": {},
   "outputs": [
    {
     "name": "stdout",
     "output_type": "stream",
     "text": [
      "Sum: 265\n",
      "Average: 37.857142857142854\n"
     ]
    }
   ],
   "source": [
    "n = [10,20,30,40,45,50,70]\n",
    "sum = 0\n",
    "for i in n : \n",
    "    sum += i\n",
    "average = sum / len(n)\n",
    "print(\"Sum:\",sum)\n",
    "print(\"Average:\",average)"
   ]
  },
  {
   "cell_type": "code",
   "execution_count": 19,
   "id": "0b0f9807-b791-473e-83ab-c361a40c221b",
   "metadata": {},
   "outputs": [],
   "source": [
    "# A 'while' loop is used when you want to repeatedly execute a block of code as long as a certain condition is true."
   ]
  },
  {
   "cell_type": "code",
   "execution_count": 20,
   "id": "e09bdeb4-0e6d-4656-8841-d7a3ed932f7a",
   "metadata": {},
   "outputs": [],
   "source": [
    "# For Example : when you need to do summation till at some point."
   ]
  },
  {
   "cell_type": "code",
   "execution_count": 6,
   "id": "a1cba93f-d24c-4c87-b9f1-df957c72ceb1",
   "metadata": {},
   "outputs": [
    {
     "name": "stdin",
     "output_type": "stream",
     "text": [
      "Put your value here 10\n"
     ]
    },
    {
     "name": "stdout",
     "output_type": "stream",
     "text": [
      "55\n"
     ]
    }
   ],
   "source": [
    "n = int(input(\"Put your value here\"))\n",
    "starting_point = 0\n",
    "counter = 1\n",
    "while counter <= n :\n",
    "    starting_point = starting_point + counter\n",
    "    counter = counter + 1\n",
    "print(starting_point)"
   ]
  },
  {
   "cell_type": "code",
   "execution_count": 7,
   "id": "86f32f0a-7aff-4c93-81ac-9be64401b4af",
   "metadata": {},
   "outputs": [],
   "source": [
    "# Q2.  Write a python program to print the sum and product of the first 10 natural numbers using for and while loop."
   ]
  },
  {
   "cell_type": "code",
   "execution_count": null,
   "id": "61c60096-2c92-48c9-aa13-ee471cbb9ea6",
   "metadata": {},
   "outputs": [],
   "source": [
    "# Program using 'for' loop :"
   ]
  },
  {
   "cell_type": "code",
   "execution_count": 15,
   "id": "a1cfcf91-e66e-4311-ae32-bd3c0252e3c2",
   "metadata": {},
   "outputs": [
    {
     "name": "stdout",
     "output_type": "stream",
     "text": [
      "Sum of the first 10 natural number is: 55\n",
      "Product of the first 10 natural number is: 3628800\n"
     ]
    }
   ],
   "source": [
    "n = 10\n",
    "sum_n = 0\n",
    "product_n = 1\n",
    "for i in range(1,n+1) : \n",
    "    sum_n += i\n",
    "    product_n *= i\n",
    "print(\"Sum of the first 10 natural number is:\",sum_n)\n",
    "print(\"Product of the first 10 natural number is:\",product_n)"
   ]
  },
  {
   "cell_type": "code",
   "execution_count": 16,
   "id": "b221cca9-5548-4b2a-8ffb-68d989044279",
   "metadata": {},
   "outputs": [],
   "source": [
    "# Program using 'while' loop : "
   ]
  },
  {
   "cell_type": "code",
   "execution_count": 1,
   "id": "434bb487-23ad-483b-9dd3-339f7da1bcbc",
   "metadata": {},
   "outputs": [
    {
     "name": "stdout",
     "output_type": "stream",
     "text": [
      "Sum of the first 10 natural number is: 55\n",
      "Product of the first 10 natural number is: 3628800\n"
     ]
    }
   ],
   "source": [
    "n = 10\n",
    "i = 1\n",
    "sum_n = 0\n",
    "product_n = 1\n",
    "\n",
    "while i <= n : \n",
    "    sum_n += i\n",
    "    product_n *= i\n",
    "    i += 1\n",
    "    \n",
    "print(\"Sum of the first 10 natural number is:\",sum_n)\n",
    "print(\"Product of the first 10 natural number is:\",product_n)"
   ]
  },
  {
   "cell_type": "code",
   "execution_count": 2,
   "id": "90e724da-9649-41d3-80e3-c26d7bd2bae0",
   "metadata": {},
   "outputs": [],
   "source": [
    "# Q3. Create a python program to compute the electricity bill for a household.\n",
    "# The per-unit charges in rupees are as follows: For the first 100 units, the user will be charged Rs. 4.5 per \n",
    "# unit, for the next 100 units, the user will be charged Rs. 6 per unit, and for the next 100 units, the user will \n",
    "# be charged Rs. 10 per unit, After 300 units and above the user will be charged Rs. 20 per unit.\n",
    "\n",
    "\n",
    "# You are required to take the units of electricity consumed in a month from the user as input.\n",
    "\n",
    "\n",
    "# Your program must pass this test case: when the unit of electricity consumed by the user in a month is \n",
    "# 310, the total electricity bill should be 2250."
   ]
  },
  {
   "cell_type": "code",
   "execution_count": 15,
   "id": "22d16756-1096-4b12-a150-1c7057a82091",
   "metadata": {},
   "outputs": [
    {
     "name": "stdin",
     "output_type": "stream",
     "text": [
      "Enter the units consumed 310\n"
     ]
    },
    {
     "name": "stdout",
     "output_type": "stream",
     "text": [
      "The total electricity bill for the month is Rs: 2250.0\n"
     ]
    }
   ],
   "source": [
    "units = int(input(\"Enter the units consumed\"))\n",
    "bill_amount = 0\n",
    "if units <= 100 :\n",
    "    bill_amount = units * 4.5\n",
    "elif units <= 200 :\n",
    "    bill_amount = 100 * 4.5 + (units-100) * 6\n",
    "elif units <= 300 : \n",
    "    bill_amount = 100 * 4.5 + 100 * 6 + (units-200) * 10\n",
    "else : \n",
    "    bill_amount = 100 * 4.5 + 100 * 6 + 100 * 10 + (units-300) * 20\n",
    "print(\"The total electricity bill for the month is Rs:\", bill_amount)"
   ]
  },
  {
   "cell_type": "code",
   "execution_count": 16,
   "id": "4403de9e-f64b-45b6-a624-7ec5286ff190",
   "metadata": {},
   "outputs": [],
   "source": [
    "# Q4. Create a list of numbers from 1 to 100. Use for loop and while loop to calculate the cube of each \n",
    "# number and if the cube of that number is divisible by 4 or 5 then append that number in a list and print \n",
    "# that list."
   ]
  },
  {
   "cell_type": "code",
   "execution_count": 21,
   "id": "cec29af5-505a-40e4-854d-b474ad90a56e",
   "metadata": {},
   "outputs": [],
   "source": [
    "# Program using 'for' loop : "
   ]
  },
  {
   "cell_type": "code",
   "execution_count": 8,
   "id": "c0158176-9f3f-4aa0-a33c-ab33d518e7bb",
   "metadata": {},
   "outputs": [
    {
     "name": "stdout",
     "output_type": "stream",
     "text": [
      "Cubes of numbers divisible by 4: [8, 64, 216, 512, 1000, 1728, 2744, 4096, 5832, 8000, 10648, 13824, 17576, 21952, 27000, 32768, 39304, 46656, 54872, 64000, 74088, 85184, 97336, 110592, 125000, 140608, 157464, 175616, 195112, 216000, 238328, 262144, 287496, 314432, 343000, 373248, 405224, 438976, 474552, 512000, 551368, 592704, 636056, 681472, 729000, 778688, 830584, 884736, 941192, 1000000]\n",
      "Cubes of numbers divisible by 5: [125, 1000, 3375, 8000, 15625, 27000, 42875, 64000, 91125, 125000, 166375, 216000, 274625, 343000, 421875, 512000, 614125, 729000, 857375, 1000000]\n"
     ]
    }
   ],
   "source": [
    "div_by_4 = []\n",
    "div_by_5 = []\n",
    "for i in range(1,101):\n",
    "    cube = i ** 3\n",
    "    if cube % 4 == 0 :\n",
    "        div_by_4.append(cube)\n",
    "    if cube % 5 == 0 : \n",
    "        div_by_5.append(cube)\n",
    "print(\"Cubes of numbers divisible by 4:\", div_by_4)\n",
    "print(\"Cubes of numbers divisible by 5:\", div_by_5)"
   ]
  },
  {
   "cell_type": "code",
   "execution_count": 7,
   "id": "79ff0b24-ad49-4a86-83c0-c8e2e5dfa971",
   "metadata": {},
   "outputs": [],
   "source": [
    "# Program using 'while' loop : "
   ]
  },
  {
   "cell_type": "code",
   "execution_count": 10,
   "id": "9c4cb452-1da2-42ff-87c6-723623c7fba0",
   "metadata": {},
   "outputs": [
    {
     "name": "stdout",
     "output_type": "stream",
     "text": [
      "Cubes of numbers divisible by 4: [8, 64, 216, 512, 1000, 1728, 2744, 4096, 5832, 8000, 10648, 13824, 17576, 21952, 27000, 32768, 39304, 46656, 54872, 64000, 74088, 85184, 97336, 110592, 125000, 140608, 157464, 175616, 195112, 216000, 238328, 262144, 287496, 314432, 343000, 373248, 405224, 438976, 474552, 512000, 551368, 592704, 636056, 681472, 729000, 778688, 830584, 884736, 941192, 1000000]\n",
      "Cubes of numbers divisible by 5: [125, 1000, 3375, 8000, 15625, 27000, 42875, 64000, 91125, 125000, 166375, 216000, 274625, 343000, 421875, 512000, 614125, 729000, 857375, 1000000]\n"
     ]
    }
   ],
   "source": [
    "div_by_4 = []\n",
    "div_by_5 = []\n",
    "i = 1\n",
    "while i <= 100 : \n",
    "    cube = i ** 3\n",
    "    if cube % 4 == 0 : \n",
    "        div_by_4.append(cube)\n",
    "    if cube % 5 == 0 : \n",
    "        div_by_5.append(cube)\n",
    "    i += 1\n",
    "print(\"Cubes of numbers divisible by 4:\",div_by_4)\n",
    "print(\"Cubes of numbers divisible by 5:\",div_by_5)"
   ]
  },
  {
   "cell_type": "code",
   "execution_count": 11,
   "id": "3248dbbb-e30f-4343-9950-c08d36813653",
   "metadata": {},
   "outputs": [],
   "source": [
    "# Q5.  Write a program to filter count vowels in the below-given string.\n",
    "# string = \"I want to become a data scientist\""
   ]
  },
  {
   "cell_type": "code",
   "execution_count": 13,
   "id": "053bdef5-8ddf-43bb-b257-792faada051a",
   "metadata": {},
   "outputs": [
    {
     "name": "stdout",
     "output_type": "stream",
     "text": [
      "Number of vowels: 12\n"
     ]
    }
   ],
   "source": [
    "string = \"I want to become a data scientist\"\n",
    "vowels = \"aeiouAEIOU\"\n",
    "count = 0\n",
    "for i in string : \n",
    "    if i in vowels : \n",
    "        count += 1\n",
    "print(\"Number of vowels:\", count)"
   ]
  },
  {
   "cell_type": "code",
   "execution_count": null,
   "id": "848669ab-fa2f-4308-bc96-06b1aa97b8db",
   "metadata": {},
   "outputs": [],
   "source": []
  }
 ],
 "metadata": {
  "kernelspec": {
   "display_name": "Python 3 (ipykernel)",
   "language": "python",
   "name": "python3"
  },
  "language_info": {
   "codemirror_mode": {
    "name": "ipython",
    "version": 3
   },
   "file_extension": ".py",
   "mimetype": "text/x-python",
   "name": "python",
   "nbconvert_exporter": "python",
   "pygments_lexer": "ipython3",
   "version": "3.10.8"
  }
 },
 "nbformat": 4,
 "nbformat_minor": 5
}
